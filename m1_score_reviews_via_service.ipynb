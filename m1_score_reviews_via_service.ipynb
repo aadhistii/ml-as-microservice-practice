{
 "cells": [
  {
   "cell_type": "markdown",
   "metadata": {
    "id": "A0H_lWU8bSZV"
   },
   "source": [
    "## Part 1: Existing Machine Learning Services\n",
    "\n",
    "<a href=\"https://colab.research.google.com/github/peckjon/hosting-ml-as-microservice/blob/master/part1/score_reviews_via_service.ipynb\" target=\"_parent\"><img src=\"https://colab.research.google.com/assets/colab-badge.svg\" alt=\"Open In Colab\"/></a>"
   ]
  },
  {
   "cell_type": "markdown",
   "metadata": {
    "id": "5AxkXZkvbSZb"
   },
   "source": [
    "### Obtain labelled reviews\n",
    "\n",
    "In order to test any of the sentiment analysis APIs, we need a labelled dataset of reviews and their sentiment polarity. We'll use NLTK to download the movie_reviews corpus."
   ]
  },
  {
   "cell_type": "code",
   "execution_count": 1,
   "metadata": {
    "colab": {
     "base_uri": "https://localhost:8080/"
    },
    "id": "V9ZHjMK0eFf1",
    "outputId": "0c127754-2d21-4ccd-c75c-da40cdd09db0"
   },
   "outputs": [
    {
     "name": "stdout",
     "output_type": "stream",
     "text": [
      "Requirement already satisfied: boto3 in c:\\users\\adhisti\\anaconda3\\envs\\microservice\\lib\\site-packages (1.34.91)\n",
      "Requirement already satisfied: nltk in c:\\users\\adhisti\\anaconda3\\envs\\microservice\\lib\\site-packages (3.8.1)\n",
      "Requirement already satisfied: botocore<1.35.0,>=1.34.91 in c:\\users\\adhisti\\anaconda3\\envs\\microservice\\lib\\site-packages (from boto3) (1.34.91)\n",
      "Requirement already satisfied: jmespath<2.0.0,>=0.7.1 in c:\\users\\adhisti\\anaconda3\\envs\\microservice\\lib\\site-packages (from boto3) (1.0.1)\n",
      "Requirement already satisfied: s3transfer<0.11.0,>=0.10.0 in c:\\users\\adhisti\\anaconda3\\envs\\microservice\\lib\\site-packages (from boto3) (0.10.1)\n",
      "Requirement already satisfied: click in c:\\users\\adhisti\\anaconda3\\envs\\microservice\\lib\\site-packages (from nltk) (8.1.7)\n",
      "Requirement already satisfied: joblib in c:\\users\\adhisti\\anaconda3\\envs\\microservice\\lib\\site-packages (from nltk) (1.4.0)\n",
      "Requirement already satisfied: regex>=2021.8.3 in c:\\users\\adhisti\\anaconda3\\envs\\microservice\\lib\\site-packages (from nltk) (2024.4.16)\n",
      "Requirement already satisfied: tqdm in c:\\users\\adhisti\\anaconda3\\envs\\microservice\\lib\\site-packages (from nltk) (4.66.2)\n",
      "Requirement already satisfied: python-dateutil<3.0.0,>=2.1 in c:\\users\\adhisti\\anaconda3\\envs\\microservice\\lib\\site-packages (from botocore<1.35.0,>=1.34.91->boto3) (2.8.2)\n",
      "Requirement already satisfied: urllib3!=2.2.0,<3,>=1.25.4 in c:\\users\\adhisti\\anaconda3\\envs\\microservice\\lib\\site-packages (from botocore<1.35.0,>=1.34.91->boto3) (2.1.0)\n",
      "Requirement already satisfied: colorama in c:\\users\\adhisti\\anaconda3\\envs\\microservice\\lib\\site-packages (from click->nltk) (0.4.6)\n",
      "Requirement already satisfied: six>=1.5 in c:\\users\\adhisti\\anaconda3\\envs\\microservice\\lib\\site-packages (from python-dateutil<3.0.0,>=2.1->botocore<1.35.0,>=1.34.91->boto3) (1.16.0)\n"
     ]
    }
   ],
   "source": [
    "!pip install boto3 nltk"
   ]
  },
  {
   "cell_type": "code",
   "execution_count": 3,
   "metadata": {
    "colab": {
     "base_uri": "https://localhost:8080/"
    },
    "id": "VvyU926MbSZc",
    "outputId": "51f0b746-80ab-4005-f91b-53b58686426b",
    "pycharm": {
     "name": "#%%\n"
    }
   },
   "outputs": [
    {
     "name": "stderr",
     "output_type": "stream",
     "text": [
      "[nltk_data] Downloading package movie_reviews to\n",
      "[nltk_data]     C:\\Users\\Adhisti\\AppData\\Roaming\\nltk_data...\n",
      "[nltk_data]   Package movie_reviews is already up-to-date!\n"
     ]
    },
    {
     "data": {
      "text/plain": [
       "True"
      ]
     },
     "execution_count": 3,
     "metadata": {},
     "output_type": "execute_result"
    }
   ],
   "source": [
    "from nltk import download\n",
    "\n",
    "download('movie_reviews')"
   ]
  },
  {
   "cell_type": "markdown",
   "metadata": {
    "id": "I_C8M9gobSZe"
   },
   "source": [
    "### Load the data\n",
    "\n",
    "The files in movie_reviews have already been divided into two sets: positive ('pos') and negative ('neg'), so we can load the raw text of the reviews into two lists, one for each polarity."
   ]
  },
  {
   "cell_type": "code",
   "execution_count": 4,
   "metadata": {
    "id": "1B5hBqSzbSZf"
   },
   "outputs": [],
   "source": [
    "from nltk.corpus import movie_reviews\n",
    "\n",
    "# extract words from reviews, pair with label\n",
    "\n",
    "reviews_pos = []\n",
    "for fileid in movie_reviews.fileids('pos'):\n",
    "    review = movie_reviews.raw(fileid)\n",
    "    reviews_pos.append(review)\n",
    "\n",
    "reviews_neg = []\n",
    "for fileid in movie_reviews.fileids('neg'):\n",
    "    review = movie_reviews.raw(fileid)\n",
    "    reviews_neg.append(review)"
   ]
  },
  {
   "cell_type": "markdown",
   "metadata": {
    "id": "VDxKxm65bSZf"
   },
   "source": [
    "### Connect to the scoring API\n",
    "\n",
    "Fill in this function with code that connects to the Amazon Comprehend API, and uses it to score a single review:\n",
    "\n",
    "* [Documentation - Amazon Comprehend: Detect Sentiment](https://docs.aws.amazon.com/comprehend/latest/dg/API_DetectSentiment.html)\n",
    "\n",
    "Your function must return either 'pos' or 'neg', so you'll need to make some decisions about how to map the results of the API call to one of these values. Amazon Comprehend can return \"NEUTRAL\" or \"MIXED\" for the Sentiment - if this happens, you will need to inspect the numeric values under the SentimentScore to see whether it leans toward positive or negative.\n"
   ]
  },
  {
   "cell_type": "code",
   "execution_count": 5,
   "metadata": {
    "id": "v3sHGCdBlRRr"
   },
   "outputs": [],
   "source": [
    "import boto3\n",
    "\n",
    "client = boto3.client(\n",
    "  'comprehend',\n",
    "  region_name='us-west-2',\n",
    "  aws_access_key_id='MY_ACCESS_KEY',\n",
    "  aws_secret_access_key='MY_SECRET_ACCESS_KEY'\n",
    ")"
   ]
  },
  {
   "cell_type": "code",
   "execution_count": 6,
   "metadata": {
    "id": "QhL8SmTYbSZg"
   },
   "outputs": [],
   "source": [
    "def score_review(review):\n",
    "    # COMPLETE THIS FUNCTION:\n",
    "    #\n",
    "    # You can find documentation about how Comprehend works in Python in the official docs\n",
    "    # https://boto3.amazonaws.com/v1/documentation/api/latest/reference/services/comprehend.html#Comprehend.Client.detect_sentiment\n",
    "    #\n",
    "    # Your function will need to return 'pos' if a review is positive and\n",
    "    # 'neg' if the review is negative\n",
    "\n",
    "    response = client.detect_sentiment(\n",
    "      Text=review[:5000],\n",
    "      LanguageCode='en'\n",
    "    )\n",
    "\n",
    "    if response['Sentiment'] == 'POSITIVE' or (response['SentimentScore']['Positive'] > response['SentimentScore']['Negative']):\n",
    "      return 'pos'\n",
    "    return 'neg'"
   ]
  },
  {
   "cell_type": "markdown",
   "metadata": {
    "id": "8q7DPov8bSZh"
   },
   "source": [
    "### Score each review\n",
    "\n",
    "Now, we can use the function you defined to score each of the reviews"
   ]
  },
  {
   "cell_type": "code",
   "execution_count": 7,
   "metadata": {
    "id": "I3xMjK9kbSZh"
   },
   "outputs": [],
   "source": [
    "# Create 2 smaller subsets for testing\n",
    "subset_pos = reviews_pos[:10]\n",
    "subset_neg = reviews_neg[:10]\n",
    "\n",
    "results_pos = []\n",
    "# When comfortable with results switch `subset_pos` to reviews_pos`\n",
    "for review in subset_pos:\n",
    "    result = score_review(review)\n",
    "    results_pos.append(result)\n",
    "\n",
    "results_neg = []\n",
    "# When comfortable with results switch `subset_neg` to reviews_neg`\n",
    "for review in subset_neg:\n",
    "    result = score_review(review)\n",
    "    results_neg.append(result)"
   ]
  },
  {
   "cell_type": "markdown",
   "metadata": {
    "id": "hjabY-rTbSZi"
   },
   "source": [
    "### Calculate accuracy\n",
    "\n",
    "For each of our known positive reviews, we can count the number which our function scored as 'pos', and use this to calculate the % accuracy. We repeaty this for negative reviews, and also for overall accuracy."
   ]
  },
  {
   "cell_type": "code",
   "execution_count": 8,
   "metadata": {
    "colab": {
     "base_uri": "https://localhost:8080/"
    },
    "id": "4NmaI-efbSZi",
    "outputId": "f3505ed2-ab12-473b-aa60-fa1c84edd583"
   },
   "outputs": [
    {
     "name": "stdout",
     "output_type": "stream",
     "text": [
      "Positive reviews: 50.0% correct\n",
      "Negative reviews: 70.0% correct\n",
      "Overall accuracy: 60.0% correct\n"
     ]
    }
   ],
   "source": [
    "correct_pos = results_pos.count('pos')\n",
    "accuracy_pos = float(correct_pos) / len(results_pos)\n",
    "correct_neg = results_neg.count('neg')\n",
    "accuracy_neg = float(correct_neg) / len(results_neg)\n",
    "correct_all = correct_pos + correct_neg\n",
    "accuracy_all = float(correct_all) / (len(results_pos)+len(results_neg))\n",
    "\n",
    "print('Positive reviews: {}% correct'.format(accuracy_pos*100))\n",
    "print('Negative reviews: {}% correct'.format(accuracy_neg*100))\n",
    "print('Overall accuracy: {}% correct'.format(accuracy_all*100))"
   ]
  }
 ],
 "metadata": {
  "accelerator": "GPU",
  "anaconda-cloud": {},
  "colab": {
   "gpuType": "T4",
   "provenance": []
  },
  "kernelspec": {
   "display_name": "Python 3 (ipykernel)",
   "language": "python",
   "name": "python3"
  },
  "language_info": {
   "codemirror_mode": {
    "name": "ipython",
    "version": 3
   },
   "file_extension": ".py",
   "mimetype": "text/x-python",
   "name": "python",
   "nbconvert_exporter": "python",
   "pygments_lexer": "ipython3",
   "version": "3.11.9"
  },
  "pycharm": {
   "stem_cell": {
    "cell_type": "raw",
    "metadata": {
     "collapsed": false
    },
    "source": []
   }
  }
 },
 "nbformat": 4,
 "nbformat_minor": 4
}
